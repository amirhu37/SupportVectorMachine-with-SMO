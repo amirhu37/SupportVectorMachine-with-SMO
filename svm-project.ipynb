{
 "cells": [
  {
   "cell_type": "code",
   "execution_count": 1,
   "id": "005015e5",
   "metadata": {
    "_cell_guid": "b1076dfc-b9ad-4769-8c92-a6c4dae69d19",
    "_uuid": "8f2839f25d086af736a60e9eeb907d3b93b6e0e5",
    "execution": {
     "iopub.execute_input": "2024-02-09T17:09:59.867906Z",
     "iopub.status.busy": "2024-02-09T17:09:59.867477Z",
     "iopub.status.idle": "2024-02-09T17:10:03.708465Z",
     "shell.execute_reply": "2024-02-09T17:10:03.706290Z"
    },
    "papermill": {
     "duration": 3.854126,
     "end_time": "2024-02-09T17:10:03.712979",
     "exception": false,
     "start_time": "2024-02-09T17:09:59.858853",
     "status": "completed"
    },
    "tags": []
   },
   "outputs": [],
   "source": [
    "import numpy as np \n",
    "import pandas as pd\n",
    "from sklearn.model_selection import train_test_split\n",
    "\n",
    "from sklearn.preprocessing import StandardScaler\n",
    "\n",
    "from sklearn.metrics import precision_score, recall_score, f1_score\n",
    "\n",
    "from sklearn.metrics import confusion_matrix\n",
    "import matplotlib.pyplot as plt\n",
    "import seaborn as sns\n"
   ]
  },
  {
   "cell_type": "code",
   "execution_count": 2,
   "id": "d67745a7",
   "metadata": {
    "execution": {
     "iopub.execute_input": "2024-02-09T17:10:03.728264Z",
     "iopub.status.busy": "2024-02-09T17:10:03.727539Z",
     "iopub.status.idle": "2024-02-09T17:10:03.802363Z",
     "shell.execute_reply": "2024-02-09T17:10:03.801044Z"
    },
    "papermill": {
     "duration": 0.086295,
     "end_time": "2024-02-09T17:10:03.805784",
     "exception": false,
     "start_time": "2024-02-09T17:10:03.719489",
     "status": "completed"
    },
    "tags": []
   },
   "outputs": [
    {
     "data": {
      "text/html": [
       "<div>\n",
       "<style scoped>\n",
       "    .dataframe tbody tr th:only-of-type {\n",
       "        vertical-align: middle;\n",
       "    }\n",
       "\n",
       "    .dataframe tbody tr th {\n",
       "        vertical-align: top;\n",
       "    }\n",
       "\n",
       "    .dataframe thead th {\n",
       "        text-align: right;\n",
       "    }\n",
       "</style>\n",
       "<table border=\"1\" class=\"dataframe\">\n",
       "  <thead>\n",
       "    <tr style=\"text-align: right;\">\n",
       "      <th></th>\n",
       "      <th>ID</th>\n",
       "      <th>Age</th>\n",
       "      <th>Experience</th>\n",
       "      <th>Income</th>\n",
       "      <th>ZIP Code</th>\n",
       "      <th>Family</th>\n",
       "      <th>CCAvg</th>\n",
       "      <th>Education</th>\n",
       "      <th>Mortgage</th>\n",
       "      <th>Personal Loan</th>\n",
       "      <th>Securities Account</th>\n",
       "      <th>CD Account</th>\n",
       "      <th>Online</th>\n",
       "      <th>CreditCard</th>\n",
       "    </tr>\n",
       "  </thead>\n",
       "  <tbody>\n",
       "    <tr>\n",
       "      <th>0</th>\n",
       "      <td>1</td>\n",
       "      <td>25</td>\n",
       "      <td>1</td>\n",
       "      <td>49</td>\n",
       "      <td>91107</td>\n",
       "      <td>4</td>\n",
       "      <td>1.6</td>\n",
       "      <td>1</td>\n",
       "      <td>0</td>\n",
       "      <td>0</td>\n",
       "      <td>1</td>\n",
       "      <td>0</td>\n",
       "      <td>0</td>\n",
       "      <td>0</td>\n",
       "    </tr>\n",
       "    <tr>\n",
       "      <th>1</th>\n",
       "      <td>2</td>\n",
       "      <td>45</td>\n",
       "      <td>19</td>\n",
       "      <td>34</td>\n",
       "      <td>90089</td>\n",
       "      <td>3</td>\n",
       "      <td>1.5</td>\n",
       "      <td>1</td>\n",
       "      <td>0</td>\n",
       "      <td>0</td>\n",
       "      <td>1</td>\n",
       "      <td>0</td>\n",
       "      <td>0</td>\n",
       "      <td>0</td>\n",
       "    </tr>\n",
       "    <tr>\n",
       "      <th>2</th>\n",
       "      <td>3</td>\n",
       "      <td>39</td>\n",
       "      <td>15</td>\n",
       "      <td>11</td>\n",
       "      <td>94720</td>\n",
       "      <td>1</td>\n",
       "      <td>1.0</td>\n",
       "      <td>1</td>\n",
       "      <td>0</td>\n",
       "      <td>0</td>\n",
       "      <td>0</td>\n",
       "      <td>0</td>\n",
       "      <td>0</td>\n",
       "      <td>0</td>\n",
       "    </tr>\n",
       "    <tr>\n",
       "      <th>3</th>\n",
       "      <td>4</td>\n",
       "      <td>35</td>\n",
       "      <td>9</td>\n",
       "      <td>100</td>\n",
       "      <td>94112</td>\n",
       "      <td>1</td>\n",
       "      <td>2.7</td>\n",
       "      <td>2</td>\n",
       "      <td>0</td>\n",
       "      <td>0</td>\n",
       "      <td>0</td>\n",
       "      <td>0</td>\n",
       "      <td>0</td>\n",
       "      <td>0</td>\n",
       "    </tr>\n",
       "    <tr>\n",
       "      <th>4</th>\n",
       "      <td>5</td>\n",
       "      <td>35</td>\n",
       "      <td>8</td>\n",
       "      <td>45</td>\n",
       "      <td>91330</td>\n",
       "      <td>4</td>\n",
       "      <td>1.0</td>\n",
       "      <td>2</td>\n",
       "      <td>0</td>\n",
       "      <td>0</td>\n",
       "      <td>0</td>\n",
       "      <td>0</td>\n",
       "      <td>0</td>\n",
       "      <td>1</td>\n",
       "    </tr>\n",
       "  </tbody>\n",
       "</table>\n",
       "</div>"
      ],
      "text/plain": [
       "   ID  Age  Experience  Income  ZIP Code  Family  CCAvg  Education  Mortgage  \\\n",
       "0   1   25           1      49     91107       4    1.6          1         0   \n",
       "1   2   45          19      34     90089       3    1.5          1         0   \n",
       "2   3   39          15      11     94720       1    1.0          1         0   \n",
       "3   4   35           9     100     94112       1    2.7          2         0   \n",
       "4   5   35           8      45     91330       4    1.0          2         0   \n",
       "\n",
       "   Personal Loan  Securities Account  CD Account  Online  CreditCard  \n",
       "0              0                   1           0       0           0  \n",
       "1              0                   1           0       0           0  \n",
       "2              0                   0           0       0           0  \n",
       "3              0                   0           0       0           0  \n",
       "4              0                   0           0       0           1  "
      ]
     },
     "execution_count": 2,
     "metadata": {},
     "output_type": "execute_result"
    }
   ],
   "source": [
    "df = pd.read_csv(r\"C:\\Users\\AmirHussain\\Desktop\\svm-smo\\UniversalBank.csv\")\n",
    "\n",
    "df.head()"
   ]
  },
  {
   "cell_type": "code",
   "execution_count": 3,
   "id": "3cff30ed",
   "metadata": {
    "execution": {
     "iopub.execute_input": "2024-02-09T17:10:03.820543Z",
     "iopub.status.busy": "2024-02-09T17:10:03.820029Z",
     "iopub.status.idle": "2024-02-09T17:10:03.829352Z",
     "shell.execute_reply": "2024-02-09T17:10:03.827874Z"
    },
    "papermill": {
     "duration": 0.020445,
     "end_time": "2024-02-09T17:10:03.832313",
     "exception": false,
     "start_time": "2024-02-09T17:10:03.811868",
     "status": "completed"
    },
    "tags": []
   },
   "outputs": [
    {
     "data": {
      "text/plain": [
       "Index(['ID', 'Age', 'Experience', 'Income', 'ZIP Code', 'Family', 'CCAvg',\n",
       "       'Education', 'Mortgage', 'Personal Loan', 'Securities Account',\n",
       "       'CD Account', 'Online', 'CreditCard'],\n",
       "      dtype='object')"
      ]
     },
     "execution_count": 3,
     "metadata": {},
     "output_type": "execute_result"
    }
   ],
   "source": [
    "df.columns"
   ]
  },
  {
   "cell_type": "code",
   "execution_count": 4,
   "id": "099485c2",
   "metadata": {
    "execution": {
     "iopub.execute_input": "2024-02-09T17:10:03.847531Z",
     "iopub.status.busy": "2024-02-09T17:10:03.847025Z",
     "iopub.status.idle": "2024-02-09T17:10:03.913856Z",
     "shell.execute_reply": "2024-02-09T17:10:03.912314Z"
    },
    "papermill": {
     "duration": 0.078475,
     "end_time": "2024-02-09T17:10:03.917334",
     "exception": false,
     "start_time": "2024-02-09T17:10:03.838859",
     "status": "completed"
    },
    "tags": []
   },
   "outputs": [
    {
     "data": {
      "text/html": [
       "<div>\n",
       "<style scoped>\n",
       "    .dataframe tbody tr th:only-of-type {\n",
       "        vertical-align: middle;\n",
       "    }\n",
       "\n",
       "    .dataframe tbody tr th {\n",
       "        vertical-align: top;\n",
       "    }\n",
       "\n",
       "    .dataframe thead th {\n",
       "        text-align: right;\n",
       "    }\n",
       "</style>\n",
       "<table border=\"1\" class=\"dataframe\">\n",
       "  <thead>\n",
       "    <tr style=\"text-align: right;\">\n",
       "      <th></th>\n",
       "      <th>ID</th>\n",
       "      <th>Age</th>\n",
       "      <th>Experience</th>\n",
       "      <th>Income</th>\n",
       "      <th>ZIP Code</th>\n",
       "      <th>Family</th>\n",
       "      <th>CCAvg</th>\n",
       "      <th>Education</th>\n",
       "      <th>Mortgage</th>\n",
       "      <th>Personal Loan</th>\n",
       "      <th>Securities Account</th>\n",
       "      <th>CD Account</th>\n",
       "      <th>Online</th>\n",
       "      <th>CreditCard</th>\n",
       "    </tr>\n",
       "  </thead>\n",
       "  <tbody>\n",
       "    <tr>\n",
       "      <th>count</th>\n",
       "      <td>5000.000000</td>\n",
       "      <td>5000.000000</td>\n",
       "      <td>5000.000000</td>\n",
       "      <td>5000.000000</td>\n",
       "      <td>5000.000000</td>\n",
       "      <td>5000.000000</td>\n",
       "      <td>5000.000000</td>\n",
       "      <td>5000.000000</td>\n",
       "      <td>5000.000000</td>\n",
       "      <td>5000.000000</td>\n",
       "      <td>5000.000000</td>\n",
       "      <td>5000.00000</td>\n",
       "      <td>5000.000000</td>\n",
       "      <td>5000.000000</td>\n",
       "    </tr>\n",
       "    <tr>\n",
       "      <th>mean</th>\n",
       "      <td>2500.500000</td>\n",
       "      <td>45.338400</td>\n",
       "      <td>20.104600</td>\n",
       "      <td>73.774200</td>\n",
       "      <td>93152.503000</td>\n",
       "      <td>2.396400</td>\n",
       "      <td>1.937938</td>\n",
       "      <td>1.881000</td>\n",
       "      <td>56.498800</td>\n",
       "      <td>0.096000</td>\n",
       "      <td>0.104400</td>\n",
       "      <td>0.06040</td>\n",
       "      <td>0.596800</td>\n",
       "      <td>0.294000</td>\n",
       "    </tr>\n",
       "    <tr>\n",
       "      <th>std</th>\n",
       "      <td>1443.520003</td>\n",
       "      <td>11.463166</td>\n",
       "      <td>11.467954</td>\n",
       "      <td>46.033729</td>\n",
       "      <td>2121.852197</td>\n",
       "      <td>1.147663</td>\n",
       "      <td>1.747659</td>\n",
       "      <td>0.839869</td>\n",
       "      <td>101.713802</td>\n",
       "      <td>0.294621</td>\n",
       "      <td>0.305809</td>\n",
       "      <td>0.23825</td>\n",
       "      <td>0.490589</td>\n",
       "      <td>0.455637</td>\n",
       "    </tr>\n",
       "    <tr>\n",
       "      <th>min</th>\n",
       "      <td>1.000000</td>\n",
       "      <td>23.000000</td>\n",
       "      <td>-3.000000</td>\n",
       "      <td>8.000000</td>\n",
       "      <td>9307.000000</td>\n",
       "      <td>1.000000</td>\n",
       "      <td>0.000000</td>\n",
       "      <td>1.000000</td>\n",
       "      <td>0.000000</td>\n",
       "      <td>0.000000</td>\n",
       "      <td>0.000000</td>\n",
       "      <td>0.00000</td>\n",
       "      <td>0.000000</td>\n",
       "      <td>0.000000</td>\n",
       "    </tr>\n",
       "    <tr>\n",
       "      <th>25%</th>\n",
       "      <td>1250.750000</td>\n",
       "      <td>35.000000</td>\n",
       "      <td>10.000000</td>\n",
       "      <td>39.000000</td>\n",
       "      <td>91911.000000</td>\n",
       "      <td>1.000000</td>\n",
       "      <td>0.700000</td>\n",
       "      <td>1.000000</td>\n",
       "      <td>0.000000</td>\n",
       "      <td>0.000000</td>\n",
       "      <td>0.000000</td>\n",
       "      <td>0.00000</td>\n",
       "      <td>0.000000</td>\n",
       "      <td>0.000000</td>\n",
       "    </tr>\n",
       "    <tr>\n",
       "      <th>50%</th>\n",
       "      <td>2500.500000</td>\n",
       "      <td>45.000000</td>\n",
       "      <td>20.000000</td>\n",
       "      <td>64.000000</td>\n",
       "      <td>93437.000000</td>\n",
       "      <td>2.000000</td>\n",
       "      <td>1.500000</td>\n",
       "      <td>2.000000</td>\n",
       "      <td>0.000000</td>\n",
       "      <td>0.000000</td>\n",
       "      <td>0.000000</td>\n",
       "      <td>0.00000</td>\n",
       "      <td>1.000000</td>\n",
       "      <td>0.000000</td>\n",
       "    </tr>\n",
       "    <tr>\n",
       "      <th>75%</th>\n",
       "      <td>3750.250000</td>\n",
       "      <td>55.000000</td>\n",
       "      <td>30.000000</td>\n",
       "      <td>98.000000</td>\n",
       "      <td>94608.000000</td>\n",
       "      <td>3.000000</td>\n",
       "      <td>2.500000</td>\n",
       "      <td>3.000000</td>\n",
       "      <td>101.000000</td>\n",
       "      <td>0.000000</td>\n",
       "      <td>0.000000</td>\n",
       "      <td>0.00000</td>\n",
       "      <td>1.000000</td>\n",
       "      <td>1.000000</td>\n",
       "    </tr>\n",
       "    <tr>\n",
       "      <th>max</th>\n",
       "      <td>5000.000000</td>\n",
       "      <td>67.000000</td>\n",
       "      <td>43.000000</td>\n",
       "      <td>224.000000</td>\n",
       "      <td>96651.000000</td>\n",
       "      <td>4.000000</td>\n",
       "      <td>10.000000</td>\n",
       "      <td>3.000000</td>\n",
       "      <td>635.000000</td>\n",
       "      <td>1.000000</td>\n",
       "      <td>1.000000</td>\n",
       "      <td>1.00000</td>\n",
       "      <td>1.000000</td>\n",
       "      <td>1.000000</td>\n",
       "    </tr>\n",
       "  </tbody>\n",
       "</table>\n",
       "</div>"
      ],
      "text/plain": [
       "                ID          Age   Experience       Income      ZIP Code  \\\n",
       "count  5000.000000  5000.000000  5000.000000  5000.000000   5000.000000   \n",
       "mean   2500.500000    45.338400    20.104600    73.774200  93152.503000   \n",
       "std    1443.520003    11.463166    11.467954    46.033729   2121.852197   \n",
       "min       1.000000    23.000000    -3.000000     8.000000   9307.000000   \n",
       "25%    1250.750000    35.000000    10.000000    39.000000  91911.000000   \n",
       "50%    2500.500000    45.000000    20.000000    64.000000  93437.000000   \n",
       "75%    3750.250000    55.000000    30.000000    98.000000  94608.000000   \n",
       "max    5000.000000    67.000000    43.000000   224.000000  96651.000000   \n",
       "\n",
       "            Family        CCAvg    Education     Mortgage  Personal Loan  \\\n",
       "count  5000.000000  5000.000000  5000.000000  5000.000000    5000.000000   \n",
       "mean      2.396400     1.937938     1.881000    56.498800       0.096000   \n",
       "std       1.147663     1.747659     0.839869   101.713802       0.294621   \n",
       "min       1.000000     0.000000     1.000000     0.000000       0.000000   \n",
       "25%       1.000000     0.700000     1.000000     0.000000       0.000000   \n",
       "50%       2.000000     1.500000     2.000000     0.000000       0.000000   \n",
       "75%       3.000000     2.500000     3.000000   101.000000       0.000000   \n",
       "max       4.000000    10.000000     3.000000   635.000000       1.000000   \n",
       "\n",
       "       Securities Account  CD Account       Online   CreditCard  \n",
       "count         5000.000000  5000.00000  5000.000000  5000.000000  \n",
       "mean             0.104400     0.06040     0.596800     0.294000  \n",
       "std              0.305809     0.23825     0.490589     0.455637  \n",
       "min              0.000000     0.00000     0.000000     0.000000  \n",
       "25%              0.000000     0.00000     0.000000     0.000000  \n",
       "50%              0.000000     0.00000     1.000000     0.000000  \n",
       "75%              0.000000     0.00000     1.000000     1.000000  \n",
       "max              1.000000     1.00000     1.000000     1.000000  "
      ]
     },
     "execution_count": 4,
     "metadata": {},
     "output_type": "execute_result"
    }
   ],
   "source": [
    "df.describe()"
   ]
  },
  {
   "cell_type": "code",
   "execution_count": 5,
   "id": "75813533",
   "metadata": {
    "execution": {
     "iopub.execute_input": "2024-02-09T17:10:03.933593Z",
     "iopub.status.busy": "2024-02-09T17:10:03.933082Z",
     "iopub.status.idle": "2024-02-09T17:10:03.965685Z",
     "shell.execute_reply": "2024-02-09T17:10:03.963677Z"
    },
    "papermill": {
     "duration": 0.044069,
     "end_time": "2024-02-09T17:10:03.968602",
     "exception": false,
     "start_time": "2024-02-09T17:10:03.924533",
     "status": "completed"
    },
    "tags": []
   },
   "outputs": [
    {
     "name": "stdout",
     "output_type": "stream",
     "text": [
      "<class 'pandas.core.frame.DataFrame'>\n",
      "RangeIndex: 5000 entries, 0 to 4999\n",
      "Data columns (total 14 columns):\n",
      " #   Column              Non-Null Count  Dtype  \n",
      "---  ------              --------------  -----  \n",
      " 0   ID                  5000 non-null   int64  \n",
      " 1   Age                 5000 non-null   int64  \n",
      " 2   Experience          5000 non-null   int64  \n",
      " 3   Income              5000 non-null   int64  \n",
      " 4   ZIP Code            5000 non-null   int64  \n",
      " 5   Family              5000 non-null   int64  \n",
      " 6   CCAvg               5000 non-null   float64\n",
      " 7   Education           5000 non-null   int64  \n",
      " 8   Mortgage            5000 non-null   int64  \n",
      " 9   Personal Loan       5000 non-null   int64  \n",
      " 10  Securities Account  5000 non-null   int64  \n",
      " 11  CD Account          5000 non-null   int64  \n",
      " 12  Online              5000 non-null   int64  \n",
      " 13  CreditCard          5000 non-null   int64  \n",
      "dtypes: float64(1), int64(13)\n",
      "memory usage: 547.0 KB\n"
     ]
    }
   ],
   "source": [
    "df.info()"
   ]
  },
  {
   "cell_type": "code",
   "execution_count": 6,
   "id": "7a9d203f",
   "metadata": {
    "execution": {
     "iopub.execute_input": "2024-02-09T17:10:03.985853Z",
     "iopub.status.busy": "2024-02-09T17:10:03.985365Z",
     "iopub.status.idle": "2024-02-09T17:10:03.997232Z",
     "shell.execute_reply": "2024-02-09T17:10:03.996224Z"
    },
    "papermill": {
     "duration": 0.02445,
     "end_time": "2024-02-09T17:10:04.000425",
     "exception": false,
     "start_time": "2024-02-09T17:10:03.975975",
     "status": "completed"
    },
    "tags": []
   },
   "outputs": [],
   "source": [
    "\n",
    "X = df.drop(['Personal Loan', 'ID','ZIP Code','Education', 'Online'], axis=1).to_numpy()\n",
    "y = df['Personal Loan'].to_numpy()\n",
    "\n",
    "\n",
    "# Split the dataset into training and test sets\n",
    "X_train, X_test, y_train, y_test = train_test_split(X, y, test_size=0.5, random_state=42)\n"
   ]
  },
  {
   "cell_type": "code",
   "execution_count": 7,
   "id": "19a51e41",
   "metadata": {
    "execution": {
     "iopub.execute_input": "2024-02-09T17:10:04.018355Z",
     "iopub.status.busy": "2024-02-09T17:10:04.017440Z",
     "iopub.status.idle": "2024-02-09T17:10:04.261697Z",
     "shell.execute_reply": "2024-02-09T17:10:04.260592Z"
    },
    "papermill": {
     "duration": 0.25686,
     "end_time": "2024-02-09T17:10:04.264352",
     "exception": false,
     "start_time": "2024-02-09T17:10:04.007492",
     "status": "completed"
    },
    "tags": []
   },
   "outputs": [
    {
     "data": {
      "image/png": "[encoded data removed]",
      "text/plain": [
       "<Figure size 640x480 with 1 Axes>"
      ]
     },
     "metadata": {},
     "output_type": "display_data"
    }
   ],
   "source": [
    "loan_yes = np.sum(y == 1)\n",
    "loaon_no = np.sum(y == 0)\n",
    "\n",
    "labels = [\"get loan\", \"not not get loan\"]\n",
    "counts = [loan_yes, loaon_no]\n",
    "\n",
    "# Example colors that are complementary and visually pleasing\n",
    "colors = [ 'crimson', 'skyblue']\n",
    "\n",
    "plt.pie( counts, labels = labels,   colors=colors,  autopct='%1.1f%%', explode=[0,  0.2])\n",
    "\n",
    "plt.title('Distribution of Samples')\n",
    "plt.savefig(\"Distribution of Samples.jpg\")\n",
    "plt.show()"
   ]
  },
  {
   "cell_type": "code",
   "execution_count": 8,
   "id": "15602dda",
   "metadata": {
    "execution": {
     "iopub.execute_input": "2024-02-09T17:10:04.284513Z",
     "iopub.status.busy": "2024-02-09T17:10:04.283255Z",
     "iopub.status.idle": "2024-02-09T17:10:04.293632Z",
     "shell.execute_reply": "2024-02-09T17:10:04.291710Z"
    },
    "papermill": {
     "duration": 0.024343,
     "end_time": "2024-02-09T17:10:04.297068",
     "exception": false,
     "start_time": "2024-02-09T17:10:04.272725",
     "status": "completed"
    },
    "tags": []
   },
   "outputs": [
    {
     "data": {
      "text/plain": [
       "((2500, 9), (2500,), (2500, 9), (2500,))"
      ]
     },
     "execution_count": 8,
     "metadata": {},
     "output_type": "execute_result"
    }
   ],
   "source": [
    "X_train.shape , y_train.shape  , X_test.shape , y_test .shape "
   ]
  },
  {
   "cell_type": "code",
   "execution_count": 9,
   "id": "0fd4555a",
   "metadata": {
    "execution": {
     "iopub.execute_input": "2024-02-09T17:10:04.319520Z",
     "iopub.status.busy": "2024-02-09T17:10:04.319048Z",
     "iopub.status.idle": "2024-02-09T17:10:04.327650Z",
     "shell.execute_reply": "2024-02-09T17:10:04.326457Z"
    },
    "papermill": {
     "duration": 0.024161,
     "end_time": "2024-02-09T17:10:04.330496",
     "exception": false,
     "start_time": "2024-02-09T17:10:04.306335",
     "status": "completed"
    },
    "tags": []
   },
   "outputs": [
    {
     "data": {
      "text/plain": [
       "{0, 1}"
      ]
     },
     "execution_count": 9,
     "metadata": {},
     "output_type": "execute_result"
    }
   ],
   "source": [
    "set(y_train)"
   ]
  },
  {
   "cell_type": "code",
   "execution_count": 10,
   "id": "2e211388",
   "metadata": {
    "execution": {
     "iopub.execute_input": "2024-02-09T17:10:04.355383Z",
     "iopub.status.busy": "2024-02-09T17:10:04.354321Z",
     "iopub.status.idle": "2024-02-09T17:10:04.365781Z",
     "shell.execute_reply": "2024-02-09T17:10:04.364635Z"
    },
    "papermill": {
     "duration": 0.027619,
     "end_time": "2024-02-09T17:10:04.369575",
     "exception": false,
     "start_time": "2024-02-09T17:10:04.341956",
     "status": "completed"
    },
    "tags": []
   },
   "outputs": [],
   "source": [
    "scaler = StandardScaler()\n",
    "\n",
    "X_train = scaler.fit_transform(X_train)\n",
    "\n",
    "X_test = scaler.transform(X_test)\n",
    "\n",
    "# y_train = y_train.to_numpy()\n",
    "# y_test = y_test.to_numpy()"
   ]
  },
  {
   "cell_type": "code",
   "execution_count": 11,
   "id": "2db15793",
   "metadata": {
    "execution": {
     "iopub.execute_input": "2024-02-09T17:10:04.397536Z",
     "iopub.status.busy": "2024-02-09T17:10:04.396021Z",
     "iopub.status.idle": "2024-02-09T17:10:04.441262Z",
     "shell.execute_reply": "2024-02-09T17:10:04.439103Z"
    },
    "papermill": {
     "duration": 0.063174,
     "end_time": "2024-02-09T17:10:04.444284",
     "exception": false,
     "start_time": "2024-02-09T17:10:04.381110",
     "status": "completed"
    },
    "tags": []
   },
   "outputs": [],
   "source": [
    "class SVM:\n",
    "    def __init__(self,*, C : float = 1.0 ,\n",
    "                 kernel : str = \"linear\",\n",
    "                 tol : float = 1e-2,\n",
    "                 degree : int = 2,\n",
    "                 max_iter : int = 100) -> None:\n",
    "        self.Kernels = {\n",
    "            \"linear\": self._linear_kernel ,\n",
    "            \"poly\" : self._poly_lernel ,\n",
    "            \"rbf\" : self._rbf_kernel\n",
    "        }\n",
    "        self.C = C # Penalty\n",
    "        self.kernel = self.Kernels[kernel] # kernel\n",
    "        self.tol = tol # tolerance for Convergance\n",
    "        self.degree = degree # degree for polynomial kernel\n",
    "        self.max_iter = max_iter # Max iteration\n",
    "        self.Weights = None # initialize Weights\n",
    "        self.Bias = None # initialize Bias\n",
    "    \n",
    "    # linear Kernel\n",
    "    def _linear_kernel(self, X1 : np.ndarray , X2 :  np.ndarray):\n",
    "        self.kernel_output = np.dot( X1, X2.T)\n",
    "        return self.kernel_output\n",
    "    \n",
    "    # polynomial Kernel\n",
    "    def _poly_lernel(self, X1 : np.ndarray, X2 : np.ndarray):\n",
    "        self.kernel_output = np.dot( X1, X2.T) ** self.degree\n",
    "        return self.kernel_output\n",
    "    \n",
    "    # Radial basis function kernel\n",
    "    def _rbf_kernel(self, X1 : np.ndarray, X2 : np.ndarray ):\n",
    "        self.kernel_output = np.exp((np.linalg.norm(X1 - X2)** 2) / -.1 ** 2)\n",
    "        return self.kernel_output\n",
    "    \n",
    "    # random range init\n",
    "    def _get_random_int(self, a, b, z):\n",
    "        r = list(range(a, z)) + list(range(z+1, b))\n",
    "        return np.random.choice(r)\n",
    "    \n",
    "    # Calculate wieghts\n",
    "    def _calc_weights(self, X, y, alpha):\n",
    "        return np.dot(X.T, alpha * y)\n",
    "    \n",
    "    # calculate Bias\n",
    "    def calc_bias(self, X, y, W):\n",
    "        return np.mean(y - np.dot(X, W))\n",
    "    \n",
    "    # Calculate Error\n",
    "    def _calc_error(self, X_k, y_k, W, b):\n",
    "        return np.sign(np.dot(X_k, W) + b) - y_k\n",
    "    \n",
    "    # Compute low and high margin\n",
    "    def _compute_low_high(self, C, alpha_prime_j, alpha_prime_i, y_j, y_i):\n",
    "            if y_i != y_j:\n",
    "                return max(0, alpha_prime_j - alpha_prime_i), min(C, C - alpha_prime_i + alpha_prime_j)\n",
    "            else :\n",
    "                return max(0 , alpha_prime_j + alpha_prime_j - C), min(C , alpha_prime_i + alpha_prime_j)\n",
    "    \n",
    "    def fit(self, X : np.ndarray, y : np.ndarray):\n",
    "        n, d = X.shape\n",
    "        alpha = np.zeros((n))\n",
    "\n",
    "        for iter in range(self.max_iter):\n",
    "            alpha_previus = np.copy(alpha)\n",
    "            for j in range(0, n):\n",
    "                # get random int i, where i != j\n",
    "                i = self._get_random_int(0, n-1, j)\n",
    "                #calculating the second derivation of objective functiom along with diagonal line\n",
    "                kij = self.kernel(X[i], X[i]) + self.kernel(X[j], X[j]) - 2 * self.kernel(X[i], X[j])\n",
    "                if kij <= 0 :\n",
    "                    continue\n",
    "                #storing the current values of ai and aj\n",
    "                alpha_prime_j, alpha_prime_i = alpha[j] , alpha[i]\n",
    "                L, H = self._compute_low_high(self.C , alpha_prime_j, alpha_prime_i , y[j], y[i] )\n",
    "\n",
    "                # Compute model parameters\n",
    "                self.Weights = self._calc_weights(X, y, alpha)\n",
    "                self.Bias = self.calc_bias(X, y , self.Weights)\n",
    "\n",
    "                # Calculate Ei, Ej\n",
    "                E_i = self._calc_error(X[i], y[i], self.Weights, self.Bias)\n",
    "                E_j = self._calc_error(X[j], y[j], self.Weights, self.Bias)\n",
    "\n",
    "                # set new alphas\n",
    "                #aj_new = aj_old + yj(Ei-Ej)/kij\n",
    "                alpha[j] = alpha_prime_j + float(y[j] * (E_i - E_j)) / kij\n",
    "\n",
    "                #aj clipped\n",
    "                alpha[j] = max(alpha[j], L)\n",
    "                alpha[j] = min(alpha[j], H)\n",
    "\n",
    "                #ai\n",
    "                alpha[i] = alpha_prime_i + y[i] * y[j] * (alpha_prime_j - alpha[j])\n",
    "            \n",
    "            # Checking For Convergance\n",
    "            diff = np.linalg.norm(alpha - alpha_previus)\n",
    "            if diff < self.tol:\n",
    "                break\n",
    "        # Compute Final Model Parameter\n",
    "        self.Weights = self._calc_weights(X, y, alpha)\n",
    "        self.Bias = self.calc_bias(X, y, self.Weights)\n",
    "        self.alpha = alpha\n",
    "        # Get supprt Vectors\n",
    "        idx = np.where(alpha > 0)[0]\n",
    "        self.Support_vcotor = X[idx]\n",
    "        return None\n",
    "    \n",
    "    def predict(self, X : np.ndarray):\n",
    "        pre = np.sign(np.dot(X, self.Weights) + self.Bias)\n",
    "\n",
    "        pre = np.where(pre == -1 , 0, pre)\n",
    "        return pre\n",
    "    \n",
    "    def accuracy_score(self, X, y):\n",
    "        if isinstance(X, pd.core.frame.DataFrame):\n",
    "            X = X.to_numpy()\n",
    "            pass\n",
    "        if isinstance(y , pd.core.series.Series):\n",
    "            y = y.to_numpy()\n",
    "        return np.mean(self.predict(X) == y)\n",
    "\n"
   ]
  },
  {
   "cell_type": "code",
   "execution_count": 12,
   "id": "dc355ca6",
   "metadata": {
    "execution": {
     "iopub.execute_input": "2024-02-09T17:10:04.464466Z",
     "iopub.status.busy": "2024-02-09T17:10:04.463063Z",
     "iopub.status.idle": "2024-02-09T17:15:12.406888Z",
     "shell.execute_reply": "2024-02-09T17:15:12.405110Z"
    },
    "papermill": {
     "duration": 307.959613,
     "end_time": "2024-02-09T17:15:12.411873",
     "exception": false,
     "start_time": "2024-02-09T17:10:04.452260",
     "status": "completed"
    },
    "tags": []
   },
   "outputs": [],
   "source": [
    "# Train the SVM model\n",
    "svm = SVM(C = 1. ,kernel = \"linear\", tol = .01, max_iter=100, degree = 2)\n",
    "svm.fit(X_train, y_train)\n",
    "\n",
    "# Make predictions on the test set\n",
    "y_pred = svm.predict(X_test)"
   ]
  },
  {
   "cell_type": "code",
   "execution_count": 13,
   "id": "2e9c932c",
   "metadata": {
    "execution": {
     "iopub.execute_input": "2024-02-09T17:15:12.448686Z",
     "iopub.status.busy": "2024-02-09T17:15:12.447877Z",
     "iopub.status.idle": "2024-02-09T17:15:12.492263Z",
     "shell.execute_reply": "2024-02-09T17:15:12.490558Z"
    },
    "papermill": {
     "duration": 0.069807,
     "end_time": "2024-02-09T17:15:12.498148",
     "exception": false,
     "start_time": "2024-02-09T17:15:12.428341",
     "status": "completed"
    },
    "tags": []
   },
   "outputs": [
    {
     "name": "stdout",
     "output_type": "stream",
     "text": [
      "Accuracy: 0.7032\n",
      "Precision: 0.25553319919517103\n",
      "Recall: 0.9921875\n",
      "F1 Score: 0.40640000000000004\n"
     ]
    }
   ],
   "source": [
    "# Compute precision, recall,accuracy and F1 score\n",
    "\n",
    "accuracy = svm.accuracy_score(X_test, y_test)\n",
    "print(\"Accuracy:\", accuracy)\n",
    "\n",
    "precision = precision_score(y_test, y_pred)\n",
    "print(\"Precision:\", precision)\n",
    "\n",
    "recall = recall_score(y_test, y_pred)\n",
    "print(\"Recall:\", recall)\n",
    "\n",
    "f1 = f1_score(y_test, y_pred)\n",
    "print(\"F1 Score:\", f1)"
   ]
  },
  {
   "cell_type": "code",
   "execution_count": 14,
   "id": "12c1ddcb",
   "metadata": {
    "execution": {
     "iopub.execute_input": "2024-02-09T17:15:12.538617Z",
     "iopub.status.busy": "2024-02-09T17:15:12.537742Z",
     "iopub.status.idle": "2024-02-09T17:15:12.944357Z",
     "shell.execute_reply": "2024-02-09T17:15:12.942476Z"
    },
    "papermill": {
     "duration": 0.430163,
     "end_time": "2024-02-09T17:15:12.947191",
     "exception": false,
     "start_time": "2024-02-09T17:15:12.517028",
     "status": "completed"
    },
    "tags": []
   },
   "outputs": [
    {
     "data": {
      "image/png": "[encoded data removed]",
      "text/plain": [
       "<Figure size 640x480 with 2 Axes>"
      ]
     },
     "metadata": {},
     "output_type": "display_data"
    }
   ],
   "source": [
    "# Compute confusion matrix\n",
    "conf_matrix = confusion_matrix(y_test, y_pred)\n",
    "\n",
    "# Visualize confusion matrix\n",
    "# plt.figure(figsize=(8, 6))\n",
    "sns.heatmap(conf_matrix / len(y_test), annot=True, fmt='.2%', cmap='Blues', \n",
    "            xticklabels=['Predicted 0', 'Predicted 1'], \n",
    "            yticklabels=['Actual 0', 'Actual 1'])\n",
    "\n",
    "\n",
    "plt.xlabel('Predicted labels')\n",
    "plt.ylabel('True labels')\n",
    "plt.title('Confusion Matrix')\n",
    "plt.savefig('Confusion Matrix.png')\n",
    "\n",
    "plt.show()"
   ]
  },
  {
   "cell_type": "code",
   "execution_count": 16,
   "id": "22a3919c",
   "metadata": {},
   "outputs": [
    {
     "data": {
      "text/plain": [
       "array([[ 0.95695144,  1.06556106,  1.14649149, ..., -0.3421532 ,\n",
       "         3.97221896,  1.54963239],\n",
       "       [-1.30657999, -1.28694013,  0.99151592, ..., -0.3421532 ,\n",
       "        -0.25174846, -0.64531434],\n",
       "       [ 0.78283364,  0.71704236,  2.03206612, ..., -0.3421532 ,\n",
       "         3.97221896,  1.54963239],\n",
       "       ...,\n",
       "       [ 0.95695144,  1.06556106,  2.58555026, ..., -0.3421532 ,\n",
       "         3.97221896, -0.64531434],\n",
       "       [-0.69716768, -0.76416209,  1.10221275, ...,  2.9226674 ,\n",
       "         3.97221896, -0.64531434],\n",
       "       [-0.52304988, -0.67703242,  1.43430324, ..., -0.3421532 ,\n",
       "        -0.25174846, -0.64531434]])"
      ]
     },
     "execution_count": 16,
     "metadata": {},
     "output_type": "execute_result"
    }
   ],
   "source": [
    "svm.Support_vcotor"
   ]
  },
  {
   "cell_type": "code",
   "execution_count": 26,
   "id": "dabbb78d",
   "metadata": {},
   "outputs": [
    {
     "data": {
      "text/plain": [
       "<Axes: >"
      ]
     },
     "execution_count": 26,
     "metadata": {},
     "output_type": "execute_result"
    },
    {
     "data": {
      "image/png": "[encoded data removed]",
      "text/plain": [
       "<Figure size 640x480 with 1 Axes>"
      ]
     },
     "metadata": {},
     "output_type": "display_data"
    }
   ],
   "source": [
    "sns.lineplot(svm.Support_vcotor[6])"
   ]
  },
  {
   "cell_type": "code",
   "execution_count": null,
   "id": "6484aa7f",
   "metadata": {},
   "outputs": [],
   "source": []
  }
 ],
 "metadata": {
  "kaggle": {
   "accelerator": "none",
   "dataSources": [
    {
     "datasetId": 249595,
     "sourceId": 524945,
     "sourceType": "datasetVersion"
    }
   ],
   "dockerImageVersionId": 30646,
   "isGpuEnabled": false,
   "isInternetEnabled": true,
   "language": "python",
   "sourceType": "notebook"
  },
  "kernelspec": {
   "display_name": "Python 3",
   "language": "python",
   "name": "python3"
  },
  "language_info": {
   "codemirror_mode": {
    "name": "ipython",
    "version": 3
   },
   "file_extension": ".py",
   "mimetype": "text/x-python",
   "name": "python",
   "nbconvert_exporter": "python",
   "pygments_lexer": "ipython3",
   "version": "3.10.11"
  },
  "papermill": {
   "default_parameters": {},
   "duration": 317.552194,
   "end_time": "2024-02-09T17:15:13.784692",
   "environment_variables": {},
   "exception": null,
   "input_path": "__notebook__.ipynb",
   "output_path": "__notebook__.ipynb",
   "parameters": {},
   "start_time": "2024-02-09T17:09:56.232498",
   "version": "2.5.0"
  }
 },
 "nbformat": 4,
 "nbformat_minor": 5
}
